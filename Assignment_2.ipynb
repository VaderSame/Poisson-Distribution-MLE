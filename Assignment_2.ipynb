{
 "cells": [
  {
   "cell_type": "markdown",
   "metadata": {},
   "source": [
    "# Grade: /100 Mark(s)\n",
    "\n",
    "# Assignment 02: Maximum Likelihood\n",
    "\n",
    "\n",
    "### Maximum Likelihood\n",
    "\n",
    "The poisson distribution https://en.wikipedia.org/wiki/Poisson_distribution is a discrete probability distribution often used to describe count-based data, like how many snowflakes fall in a day.\n",
    "\n",
    "If we have count data $y$ that are influenced by a covariate or feature $x$, we can used the maximum likelihood principle to develop a regression model that estimates the mean of $Y$ given $X = x$.\n",
    "\n",
    "### Follow These Instructions\n",
    "\n",
    "Once you are finished, ensure to complete the following steps.\n",
    "\n",
    "1.  Restart your kernel by clicking 'Kernel' > 'Restart & Run All'.\n",
    "\n",
    "2.  Fix any errors which result from this.\n",
    "\n",
    "3.  Repeat steps 1. and 2. until your notebook runs without errors.\n",
    "\n",
    "4.  Submit your completed notebook to OWL by the deadline.\n"
   ]
  },
  {
   "cell_type": "code",
   "execution_count": 3,
   "metadata": {},
   "outputs": [],
   "source": [
    "#Packages for this assignment\n",
    "import numpy as np\n",
    "import matplotlib.pyplot as plt\n",
    "import pandas as pd\n",
    "from scipy.optimize import minimize\n",
    "from scipy.special import gammaln\n",
    "from sklearn import linear_model\n",
    "from IPython.display import display"
   ]
  },
  {
   "cell_type": "markdown",
   "metadata": {},
   "source": [
    "### Question 1: /10 Marks\n",
    "\n",
    "The negative log likelihood for one observation of a single Poisson random variable is\n",
    "\n",
    "$$\\ell(\\lambda; y) = -\\Bigg(   y\\cdot \\ln(\\lambda) - \\lambda - \\ln(y) \\Bigg)$$\n",
    "\n",
    "The negative log likelihood for a collection of $N$ observations, assuming each is independent and Poisson with the same parameter $\\lambda$, is\n",
    "\n",
    "$$\\ell(\\lambda; \\mathbf{y}) = -\\sum_{i=1}^N\\Bigg(   y_{i}\\cdot \\ln(\\lambda) - \\lambda - \\ln(y_i!) \\Bigg)$$\n",
    "\n",
    "The negative log likelihood for a collection of $N$ observations, assuming each is independent and Poisson with a *different* parameter $\\lambda$ for each one, is\n",
    "\n",
    "$$\\ell(\\boldsymbol{\\lambda}; \\mathbf{y}) = -\\sum_{i=1}^N\\Bigg(   y_{i}\\cdot \\ln(\\lambda_i) - \\lambda_i - \\ln(y_i!) \\Bigg)$$\n",
    "\n",
    "See the difference?\n",
    "\n",
    "Write a function called `poissonNegLogLikelihood` that takes a vector of counts $\\mathbf{y}$ and a parameter $\\lambda$ and returns the negative log likelihood. Use numpy functions so that you don't need to use loops. Also, note that the $\\sum_{i} \\ln(y!)$ term does not affect the location of the maximum because it does not change with $\\lambda$, and so you can (and should) omit the $ \\ln(y!)$ in your function.\n",
    "\n",
    "Your code should work for two cases:\n",
    "\n",
    "First, it should work with a scalar $\\lambda$ and a vector $y$. Test your function by calling it with `lam = 1.3` and `y=np.array([2,1,0,0])`.\n",
    "\n",
    "Second, it should work with a vector $\\lambda$ and a vector $y$, if they have the same length. (This is the last likelihood function described above.) Test your function by calling it with `lam=np.array([1,0.5,1,3])` and  `y=np.array([2,1,0,0])`. In this second case, the first $\\lambda$ should be used to evaluate the first $y$, the second $\\lambda$ should be used to evaluat the second $y$, and so on. ***YOU SHOULD NOT USE ANY LOOPS - BOTH CASES SHOULD WORK IF YOU CODE IT IN THE SIMPLEST WAY BECAUSE OF HOW NUMPY WORKS.**\n",
    "\n",
    "**Answer the following below in markdown:** What happens when you set an element of lam to 0 or a negative number and why? \n"
   ]
  },
  {
   "cell_type": "markdown",
   "metadata": {},
   "source": [
    "#### Answer to Question 1\n",
    "\n",
    "Your answer here."
   ]
  },
  {
   "cell_type": "code",
   "execution_count": 4,
   "metadata": {},
   "outputs": [],
   "source": [
    "def poissonNegLogLikelihood(lam,y):\n",
    "    # Compute negative log likelihood\n",
    "    neg_log_lik = -(y * np.log(lam) - lam).sum()\n",
    "    return neg_log_lik"
   ]
  },
  {
   "cell_type": "code",
   "execution_count": 5,
   "metadata": {},
   "outputs": [
    {
     "name": "stdout",
     "output_type": "stream",
     "text": [
      "4.412907206597527\n"
     ]
    }
   ],
   "source": [
    "y = np.array([2, 1, 0, 0])\n",
    "lam = 1.3\n",
    "print(poissonNegLogLikelihood(lam, y))  # Example with scalar lam"
   ]
  },
  {
   "cell_type": "code",
   "execution_count": 6,
   "metadata": {},
   "outputs": [
    {
     "name": "stdout",
     "output_type": "stream",
     "text": [
      "6.193147180559945\n"
     ]
    }
   ],
   "source": [
    "y = np.array([2, 1, 0, 0])\n",
    "lam = np.array([1, 0.5, 1, 3])\n",
    "print(poissonNegLogLikelihood(lam, y))  # Example with vector lam"
   ]
  },
  {
   "cell_type": "markdown",
   "metadata": {},
   "source": [
    "when lamda = 0 , this gives log(0) which would be give mathematical error, since the log of 0 is undefined. In practice we cannot have a rate parameter o 0 for poisson distribution , because it implies no events occur. And when lambda < 0  taking the log of negative number is undefined , which would led to an error. In practice Poisson distribution requires that lambda must be positive number. "
   ]
  },
  {
   "cell_type": "markdown",
   "metadata": {},
   "source": [
    "---\n",
    "\n",
    "### Question 2: /15 Marks\n",
    "\n",
    "Write a function called `poissonRegressionNegLogLikelihood` that takes as arguments a vector $\\mathbf{y}$ of counts, a design matrix $\\mathbf{X}$ of features for each count, and a vector $\\mathbf{\\beta}$ of parameters. The function should return the negative log likelihood of this dataset, assuming that each element of  $\\mathbf{y}$ is independent and Poisson distributed with parameter $\\lambda = \\exp(\\mathbf{X}\\beta)$. Hint: Numpy implements the exponential using `np.exp`.\n",
    "\n",
    "Hint: You should use `poissonNegLogLikelihood` in this answer!\n",
    "Test your function by calling it with \n",
    "* `b=np.array([1,2])`\n",
    "* `X=np.array([[1,2,3],[2,3,1]]).T`\n",
    "* `y=np.array([0,2,10])`\n"
   ]
  },
  {
   "cell_type": "code",
   "execution_count": 7,
   "metadata": {},
   "outputs": [],
   "source": [
    "def poissonRegressionNegLogLikelihood(b, X, y):\n",
    "   # Compute lambda as exp(X @ beta)\n",
    "    lam = np.exp(X @ b)  # Matrix multiplication X @ b gives vector, then apply exp element-wise\n",
    "    \n",
    "    # Use poissonNegLogLikelihood to compute the likelihood\n",
    "    neg_log_lik = poissonNegLogLikelihood(lam, y)\n",
    "    \n",
    "    return neg_log_lik"
   ]
  },
  {
   "cell_type": "code",
   "execution_count": 8,
   "metadata": {},
   "outputs": [
    {
     "name": "stdout",
     "output_type": "stream",
     "text": [
      "3211.7843052468816\n"
     ]
    }
   ],
   "source": [
    "# Test data\n",
    "b = np.array([1, 2])\n",
    "X = np.array([[1, 2, 3], [2, 3, 1]]).T  # Design matrix (3x2)\n",
    "y = np.array([0, 2, 10])  # Count vector\n",
    "\n",
    "# Call the function and print the result\n",
    "result = poissonRegressionNegLogLikelihood(b, X, y)\n",
    "print(result)\n"
   ]
  },
  {
   "cell_type": "markdown",
   "metadata": {},
   "source": [
    "### Question 3: /10 Marks\n",
    "\n",
    "a) In `poissonRegressionNegLogLikelihood`, why did we apply the exponential function to $\\mathbf{X}\\beta$?  Hint: Can an exponential ever be negative?\n",
    "\n",
    "b) What might have happened had we just passed $\\lambda = \\mathbf{X}\\beta$?\n",
    "\n",
    "Answer parts a) and b) below in this cell.  Write no more than 2 sentences per answer! \n",
    "\n",
    "---\n",
    "\n",
    "\n",
    "a) We applied the exponential function to  $\\mathbf{X}\\beta $ because the Poisson rate parameter $\\lambda\\ $ must always be positive, and the exponential function ensures this since $\\exp(\\mathbf{X}\\beta) $ is always positive for any real number. The exponential guarantees $ \\lambda > 0 $, which is necessary for the Poisson distribution.\n",
    "\n",
    "b) Had we passed $\\lambda = \\mathbf{X}\\beta $ directly, $ \\lambda $ could take negative values, which would be invalid for the Poisson distribution as $ \\lambda \\ $ represents a rate parameter that must be non-negative. This would lead to errors, such as undefined logarithms when calculating the likelihood."
   ]
  },
  {
   "cell_type": "markdown",
   "metadata": {},
   "source": [
    "### Question 4: /5 Marks\n",
    "\n",
    "Write a function called `modelPrediction` which accepts as its first argument a vector of coefficents $\\beta$ and a design matrix $\\mathbf{X}$.  The function should return predictions of the form $\\widehat{\\mathbf{y}} = \\exp(\\mathbf{X}\\beta)$. \n",
    "\n",
    "Hint: Numpy implements the exponential using `np.exp`.  \n",
    "\n",
    "Test your function by calling it with \n",
    "* `b=np.array([1,2])`\n",
    "* `X=np.array([[1,2,3],[2,3,1]]).T`"
   ]
  },
  {
   "cell_type": "code",
   "execution_count": 9,
   "metadata": {},
   "outputs": [],
   "source": [
    "def modelPrediction(b,X):\n",
    "    yhat = np.exp(X @ b)\n",
    "    return yhat"
   ]
  },
  {
   "cell_type": "code",
   "execution_count": 10,
   "metadata": {},
   "outputs": [
    {
     "name": "stdout",
     "output_type": "stream",
     "text": [
      "[ 148.4131591  2980.95798704  148.4131591 ]\n"
     ]
    }
   ],
   "source": [
    "# Test data\n",
    "b = np.array([1, 2])\n",
    "X = np.array([[1, 2, 3], [2, 3, 1]]).T\n",
    "\n",
    "# Call the function and print the predictions\n",
    "yhat = modelPrediction(b, X)\n",
    "print(yhat)\n"
   ]
  },
  {
   "cell_type": "markdown",
   "metadata": {},
   "source": [
    "### Question 5: /15 Marks\n",
    "\n",
    "Write a function called `fitModel` which accepts as its first argument argument a design matrix $\\mathbf{X}$ and as its second argument a vector of outcomes counts $\\mathbf{y}$. The function should return the maximum likelihood estimates for the coefficients of a Poisson regression of $\\mathbf{y}$ onto $\\mathbf{X}$.\n",
    "\n",
    "Test your function by calling it with \n",
    "* `X=np.array([[1,2,3],[2,3,1]]).T`\n",
    "* `y=np.array([0,2,10])`\n",
    "\n",
    "What is your estimated b? "
   ]
  },
  {
   "cell_type": "code",
   "execution_count": 11,
   "metadata": {},
   "outputs": [],
   "source": [
    "def fitModel(X,y):\n",
    "\n",
    "    # Instantiate a guess for the betas, beta_start, so that the optimizer has somewhere to start\n",
    "    # Keep in mind what shape the beta_start should be. It shoud have the same number of elements as X as columns\n",
    "    beta_start = np.ones(X.shape[1])\n",
    "    # Minimize the appropriate likelihood function\n",
    "    mle = minimize(poissonRegressionNegLogLikelihood, beta_start, args=(X, y), method='BFGS')\n",
    "    # Extract the maximum likelihood estimates from the optimizer.\n",
    "    betas = mle.x\n",
    "    return betas\n",
    "\n",
    "# Write code to show your estimated b.\n"
   ]
  },
  {
   "cell_type": "code",
   "execution_count": 12,
   "metadata": {},
   "outputs": [
    {
     "name": "stdout",
     "output_type": "stream",
     "text": [
      "Estimated coefficients (b): [ 0.94827558 -0.52953525]\n"
     ]
    }
   ],
   "source": [
    "# Test the function\n",
    "X = np.array([[1, 2, 3], [2, 3, 1]]).T\n",
    "y = np.array([0, 2, 10])\n",
    "\n",
    "# Estimate the betas\n",
    "betas = fitModel(X, y)\n",
    "print(\"Estimated coefficients (b):\", betas)"
   ]
  },
  {
   "cell_type": "markdown",
   "metadata": {},
   "source": [
    "### Question 6: /20 Mark(s)\n",
    "\n",
    "Load in the data from `poisson_regression_data.csv`. Plot a scatterplot of the data. Fit a poisson regression to this data using the functions you wrote above.  Plot the model predictions over $x \\in [-2,2]$ on the same graph as the scatterplot of the data.  "
   ]
  },
  {
   "cell_type": "code",
   "execution_count": 13,
   "metadata": {},
   "outputs": [
    {
     "data": {
      "image/png": "[encoded data removed]",
      "text/plain": [
       "<Figure size 768x576 with 1 Axes>"
      ]
     },
     "metadata": {},
     "output_type": "display_data"
    }
   ],
   "source": [
    "# Loading in the data\n",
    "df = pd.read_csv('poisson_regression_data.csv')\n",
    "\n",
    "# Create a scatter plot of the data\n",
    "fig, ax = plt.subplots(dpi=120)\n",
    "ax.scatter(df['x'], df['y'], label=\"Data\", color=\"blue\")\n",
    "\n",
    "# Prepare the design matrix X and the target y\n",
    "x = df['x'].values \n",
    "X = np.column_stack((np.ones_like(x), x))  # Add intercept (bias term)\n",
    "y = df['y'].values\n",
    "\n",
    "# Find the maximum likelihood estimates for the coefficients for this data\n",
    "betas = fitModel(X, y)\n",
    "\n",
    "# Generate new data for predictions in the range of [-2, 2]\n",
    "newx = np.linspace(-2, 2, 1001)\n",
    "newX = np.column_stack((np.ones_like(newx), newx))  # Add intercept to new data\n",
    "\n",
    "# Make predictions on the new data using the modelPrediction function\n",
    "y_predicted = modelPrediction(betas, newX)\n",
    "\n",
    "# Plot the model predictions on the same axis and color the predictions red\n",
    "ax.plot(newx, y_predicted, label=\"Model Prediction\", color=\"red\")\n",
    "\n",
    "# Label the axes and add a legend\n",
    "ax.set_xlabel('x')\n",
    "ax.set_ylabel('y')\n",
    "ax.legend()\n",
    "\n",
    "# Display the plot\n",
    "plt.show()\n"
   ]
  },
  {
   "cell_type": "markdown",
   "metadata": {},
   "source": [
    "### Question 7:  /20 Marks\n",
    "\n",
    "Now apply linear regression (ordinary least squares) to the data, obtain parameter estimates and and plot the predictions over the same range.\n"
   ]
  },
  {
   "cell_type": "code",
   "execution_count": 14,
   "metadata": {},
   "outputs": [
    {
     "data": {
      "image/png": "[encoded data removed]",
      "text/plain": [
       "<Figure size 768x576 with 1 Axes>"
      ]
     },
     "metadata": {},
     "output_type": "display_data"
    }
   ],
   "source": [
    "import pandas as pd\n",
    "import numpy as np\n",
    "import matplotlib.pyplot as plt\n",
    "\n",
    "# Load the data\n",
    "df = pd.read_csv('poisson_regression_data.csv')\n",
    "\n",
    "# Prepare the design matrix X and the target y for linear regression\n",
    "x = df['x'].values\n",
    "X = np.column_stack((np.ones_like(x), x))  # Add intercept term\n",
    "y = df['y'].values\n",
    "\n",
    "# Fit the linear regression model (Ordinary Least Squares)\n",
    "# OLS parameter estimate: (X^T X)^-1 X^T y\n",
    "ols_fit = np.linalg.inv(X.T @ X) @ (X.T @ y)\n",
    "\n",
    "# Generate new data for predictions in the range of [-2, 2]\n",
    "newx = np.linspace(-2, 2, 1001)\n",
    "newX = np.column_stack((np.ones_like(newx), newx))  # Add intercept term\n",
    "\n",
    "# Make predictions using the linear model (y = X @ beta)\n",
    "y_predicted_ols = newX @ ols_fit\n",
    "\n",
    "# Plot the data and the linear regression predictions\n",
    "fig, ax = plt.subplots(dpi=120)\n",
    "\n",
    "# Scatterplot of original data\n",
    "ax.scatter(df['x'], df['y'], label=\"Data\", color=\"blue\")\n",
    "\n",
    "# Plot the linear regression predictions (in red)\n",
    "ax.plot(newx, y_predicted_ols, label=\"Linear Regression Prediction\", color=\"red\")\n",
    "\n",
    "# Label the axes and add a legend\n",
    "ax.set_xlabel('x')\n",
    "ax.set_ylabel('y')\n",
    "ax.legend()\n",
    "\n",
    "# Show the plot\n",
    "plt.show()\n"
   ]
  },
  {
   "cell_type": "markdown",
   "metadata": {},
   "source": [
    "### Question 8: /5 Mark(s)\n",
    "\n",
    "Do you see any major problems with the predictions from linear regression? Keep in mind that this model is intended to model counts of things.  Provide your answer below in markdown in fewer than 5 sentences. "
   ]
  },
  {
   "cell_type": "markdown",
   "metadata": {},
   "source": [
    "#### Answer \n",
    "Yes, there are major problems with the predictions from linear regression in this context. Linear regression can produce negative predictions, which is problematic because counts must be non-negative. Also, linear regression assumes equal variance across all values, but counts usually have more variation as the values increase, making it less suitable for this type of data.\n",
    "\n"
   ]
  },
  {
   "cell_type": "markdown",
   "metadata": {},
   "source": [
    "### Follow These Instructions\n",
    "\n",
    "Once you are finished, ensure to complete the following steps.\n",
    "\n",
    "1.  Restart your kernel by clicking 'Kernel' > 'Restart & Run All'.\n",
    "\n",
    "2.  Fix any errors which result from this.\n",
    "\n",
    "3.  Repeat steps 1. and 2. until your notebook runs without errors.\n",
    "\n",
    "4.  Submit your completed notebook to OWL by the deadline."
   ]
  },
  {
   "cell_type": "code",
   "execution_count": null,
   "metadata": {},
   "outputs": [],
   "source": []
  }
 ],
 "metadata": {
  "kernelspec": {
   "display_name": "Python 3",
   "language": "python",
   "name": "python3"
  },
  "language_info": {
   "codemirror_mode": {
    "name": "ipython",
    "version": 3
   },
   "file_extension": ".py",
   "mimetype": "text/x-python",
   "name": "python",
   "nbconvert_exporter": "python",
   "pygments_lexer": "ipython3",
   "version": "3.12.4"
  }
 },
 "nbformat": 4,
 "nbformat_minor": 4
}
